{
 "cells": [
  {
   "cell_type": "code",
   "execution_count": null,
   "metadata": {
    "collapsed": true
   },
   "outputs": [],
   "source": [
    "from pyDatalog import pyDatalog\n",
    "def twice(a):\n",
    "    return a+a\n",
    "pyDatalog.create_terms('X,Y,Z,Arr')\n",
    "\n",
    "print('Set the X var to 1')\n",
    "print(X==1)\n",
    "print()\n",
    "print('Assignment of 2 Vars')\n",
    "print((X==True) & (Y==False))\n",
    "print()\n",
    "\n",
    "print('Assignment n times, to n values')\n",
    "print(Arr.in_((0,1,2,3,4)))\n",
    "print()\n",
    "\n",
    "print('Just another case N assignment')\n",
    "print(Arr.in_(range(5)))\n",
    "print()\n",
    "\n",
    "print('Filtering')\n",
    "print(X.in_(range(5)) & (X<2))\n",
    "print()\n",
    "\n",
    "print('Term of function')\n",
    "pyDatalog.create_terms('twice')\n",
    "print((X==2) & (Y==twice(X)))\n",
    "print()\n",
    "print('Combination Assignment and Filtering')\n",
    "print(X.in_(range(5)) & \n",
    "     Y.in_(range(5)) & \n",
    "     (Z==X*Y))\n",
    "print(len(Z))\n",
    "\n",
    "\n"
   ]
  },
  {
   "cell_type": "code",
   "execution_count": null,
   "metadata": {
    "collapsed": true
   },
   "outputs": [],
   "source": [
    "from ipywidgets import interact_manual\n",
    "from pyDatalog import pyDatalog\n",
    "def pro(a, b):\n",
    "    return a*b*0.001\n",
    "def percent(a):\n",
    "    return a*0.01\n",
    "pyDatalog.create_terms('employee, net_salary, tax_rate')\n",
    "@interact_manual\n",
    "def get_input(name='User', salary=100, time = 1):\n",
    "    employee[name]=salary*time\n",
    "    per = 0.03*employee[name]\n",
    "    tax_rate[name] = pro(employee[name], per)\n",
    "    net_salary[X] = employee[X]*(1-percent(tax_rate[X]))\n",
    "    print(net_salary[X].in_(range(700)) & (net_salary[X] >50) )\n",
    "    print(net_salary[X]==Y)"
   ]
  },
  {
   "cell_type": "code",
   "execution_count": null,
   "metadata": {
    "collapsed": true
   },
   "outputs": [],
   "source": [
    "print(net_salary[X]==Y)"
   ]
  },
  {
   "cell_type": "code",
   "execution_count": null,
   "metadata": {
    "collapsed": true
   },
   "outputs": [],
   "source": []
  },
  {
   "cell_type": "code",
   "execution_count": null,
   "metadata": {
    "collapsed": true
   },
   "outputs": [],
   "source": [
    "from ipywidgets import interact_manual\n",
    "from pyDatalog import pyDatalog\n",
    "pyDatalog.create_terms(\"employee, net_salary, tax_rate\")\n",
    "@interact_manual\n",
    "def get_input(name='User', salary=100):\n",
    "    employee[name]=salary\n",
    "    net_salary[X] = employee[X]*(1-salary/10)\n",
    "    print(net_salary[X]==Y)\n"
   ]
  },
  {
   "cell_type": "code",
   "execution_count": null,
   "metadata": {
    "collapsed": true
   },
   "outputs": [],
   "source": [
    "from ipywidgets import interact_manual\n",
    "from pyDatalog import pyDatalog\n",
    "pyDatalog.create_terms(\"employee, net_salary, tax_rate, work_time\")\n",
    "@interact_manual\n",
    "def get_input(name='User', salary=100, working = 1):\n",
    "    employee[name]=salary*working\n",
    "    work_time[name]=working\n",
    "    net_salary[X] = employee[X]*(1-salary/10)\n",
    "    print(net_salary[X]==Y)\n"
   ]
  },
  {
   "cell_type": "code",
   "execution_count": null,
   "metadata": {
    "collapsed": true
   },
   "outputs": [],
   "source": [
    "from ipywidgets import interact_manual\n",
    "from pyDatalog import pyDatalog\n",
    "pyDatalog.create_terms(\"sorted,employee, net_salary, tax_rate, work_time\")\n",
    "@interact_manual\n",
    "def get_input(name='User', salary=100, working = 1):\n",
    "    employee[name]=salary*working\n",
    "    work_time[name]=working\n",
    "    net_salary[X] = employee[X]*(1-salary/10)\n",
    "    print(net_salary[X]==Y)\n",
    "\n",
    "print( sorted.in(employee[X]==min(Y, order_by=employee)) )\n"
   ]
  }
 ],
 "metadata": {
  "kernelspec": {
   "display_name": "Python 3",
   "language": "python",
   "name": "python3"
  },
  "language_info": {
   "codemirror_mode": {
    "name": "ipython",
    "version": 3
   },
   "file_extension": ".py",
   "mimetype": "text/x-python",
   "name": "python",
   "nbconvert_exporter": "python",
   "pygments_lexer": "ipython3",
   "version": "3.6.3"
  }
 },
 "nbformat": 4,
 "nbformat_minor": 2
}
