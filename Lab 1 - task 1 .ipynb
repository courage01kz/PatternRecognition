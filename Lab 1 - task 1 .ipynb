{
 "cells": [
  {
   "cell_type": "code",
   "execution_count": null,
   "metadata": {
    "collapsed": true
   },
   "outputs": [],
   "source": [
    "def many(a,t):\n",
    "    sum = 0 \n",
    "    for i in range(t):\n",
    "        m = max(a) \n",
    "        sum = sum + m \n",
    "        a[a.index(m)] = 0\n",
    "    return sum \n",
    "\n",
    "Arr = [1, 1, 1, 1, 1]\n",
    "t = 3\n",
    "print(many(Arr,t))\n",
    "\n",
    "Arr = [11, 2]\n",
    "t = 4\n",
    "print(many(Arr,t))\n",
    "\n",
    "Arr = [8, 2, 9, 17, 4, 4, 10]\n",
    "t = 4\n",
    "print(many(Arr,t))\n",
    "\n",
    "\n",
    "\n"
   ]
  },
  {
   "cell_type": "code",
   "execution_count": 10,
   "metadata": {},
   "outputs": [
    {
     "name": "stdout",
     "output_type": "stream",
     "text": [
      "Enter the number of products 10 2 3 4 \n",
      "[10, 2, 3, 4]\n",
      "Enter the quantity of products you want to buy 2 \n",
      "[2, 3, 4, 10]\n",
      "the sum of your products\n",
      "14\n"
     ]
    }
   ],
   "source": [
    "array = input(\"Enter the number of products \").split()\n",
    "l = len(array)\n",
    "for i in range(l):\n",
    "    array[i] = int(array[i])\n",
    "print(array)\n",
    "t = int(input(\"Enter the quantity of products you want to buy \"))\n",
    "array.sort()\n",
    "print(array)\n",
    "s = len(array)\n",
    "sum = 0 \n",
    "for i in range(t):\n",
    "    sum = sum + array[s-1]\n",
    "    s = s - 1\n",
    "print(\"the sum of your products\")\n",
    "print(sum)"
   ]
  },
  {
   "cell_type": "code",
   "execution_count": null,
   "metadata": {
    "collapsed": true
   },
   "outputs": [],
   "source": []
  }
 ],
 "metadata": {
  "kernelspec": {
   "display_name": "Python 3",
   "language": "python",
   "name": "python3"
  },
  "language_info": {
   "codemirror_mode": {
    "name": "ipython",
    "version": 3
   },
   "file_extension": ".py",
   "mimetype": "text/x-python",
   "name": "python",
   "nbconvert_exporter": "python",
   "pygments_lexer": "ipython3",
   "version": "3.6.3"
  }
 },
 "nbformat": 4,
 "nbformat_minor": 2
}
